{
 "cells": [
  {
   "cell_type": "markdown",
   "metadata": {},
   "source": [
    "# Centrality Measures\n",
    "\n",
    "<a href=https://networkx.github.io/documentation/networkx-1.10/index.html> <u><b>doc of networkx</b></u> </a>"
   ]
  },
  {
   "cell_type": "markdown",
   "metadata": {},
   "source": [
    "## dataset: small_trains"
   ]
  },
  {
   "cell_type": "code",
   "execution_count": 1,
   "metadata": {},
   "outputs": [],
   "source": [
    "import pandas as pd\n",
    "\n",
    "df = pd.read_csv('https://raw.githubusercontent.com/rfordatascience/tidytuesday/master/data/2019/2019-02-26/small_trains.csv')"
   ]
  },
  {
   "cell_type": "code",
   "execution_count": 2,
   "metadata": {},
   "outputs": [
    {
     "data": {
      "text/html": [
       "<div>\n",
       "<style scoped>\n",
       "    .dataframe tbody tr th:only-of-type {\n",
       "        vertical-align: middle;\n",
       "    }\n",
       "\n",
       "    .dataframe tbody tr th {\n",
       "        vertical-align: top;\n",
       "    }\n",
       "\n",
       "    .dataframe thead th {\n",
       "        text-align: right;\n",
       "    }\n",
       "</style>\n",
       "<table border=\"1\" class=\"dataframe\">\n",
       "  <thead>\n",
       "    <tr style=\"text-align: right;\">\n",
       "      <th></th>\n",
       "      <th>year</th>\n",
       "      <th>month</th>\n",
       "      <th>service</th>\n",
       "      <th>departure_station</th>\n",
       "      <th>arrival_station</th>\n",
       "      <th>journey_time_avg</th>\n",
       "      <th>total_num_trips</th>\n",
       "      <th>avg_delay_all_departing</th>\n",
       "      <th>avg_delay_all_arriving</th>\n",
       "      <th>num_late_at_departure</th>\n",
       "      <th>num_arriving_late</th>\n",
       "      <th>delay_cause</th>\n",
       "      <th>delayed_number</th>\n",
       "    </tr>\n",
       "  </thead>\n",
       "  <tbody>\n",
       "    <tr>\n",
       "      <th>0</th>\n",
       "      <td>2017</td>\n",
       "      <td>9</td>\n",
       "      <td>National</td>\n",
       "      <td>PARIS EST</td>\n",
       "      <td>METZ</td>\n",
       "      <td>85.133779</td>\n",
       "      <td>299</td>\n",
       "      <td>0.752007</td>\n",
       "      <td>0.419844</td>\n",
       "      <td>15</td>\n",
       "      <td>17.0</td>\n",
       "      <td>delay_cause_external_cause</td>\n",
       "      <td>0.250000</td>\n",
       "    </tr>\n",
       "    <tr>\n",
       "      <th>1</th>\n",
       "      <td>2017</td>\n",
       "      <td>9</td>\n",
       "      <td>National</td>\n",
       "      <td>REIMS</td>\n",
       "      <td>PARIS EST</td>\n",
       "      <td>47.064516</td>\n",
       "      <td>218</td>\n",
       "      <td>1.263518</td>\n",
       "      <td>1.137558</td>\n",
       "      <td>10</td>\n",
       "      <td>23.0</td>\n",
       "      <td>delay_cause_external_cause</td>\n",
       "      <td>0.250000</td>\n",
       "    </tr>\n",
       "    <tr>\n",
       "      <th>2</th>\n",
       "      <td>2017</td>\n",
       "      <td>9</td>\n",
       "      <td>National</td>\n",
       "      <td>PARIS EST</td>\n",
       "      <td>STRASBOURG</td>\n",
       "      <td>116.234940</td>\n",
       "      <td>333</td>\n",
       "      <td>1.139257</td>\n",
       "      <td>1.586396</td>\n",
       "      <td>20</td>\n",
       "      <td>19.0</td>\n",
       "      <td>delay_cause_external_cause</td>\n",
       "      <td>0.214286</td>\n",
       "    </tr>\n",
       "    <tr>\n",
       "      <th>3</th>\n",
       "      <td>2017</td>\n",
       "      <td>9</td>\n",
       "      <td>National</td>\n",
       "      <td>PARIS LYON</td>\n",
       "      <td>AVIGNON TGV</td>\n",
       "      <td>161.089583</td>\n",
       "      <td>481</td>\n",
       "      <td>1.406215</td>\n",
       "      <td>4.788542</td>\n",
       "      <td>36</td>\n",
       "      <td>61.0</td>\n",
       "      <td>delay_cause_external_cause</td>\n",
       "      <td>0.155172</td>\n",
       "    </tr>\n",
       "    <tr>\n",
       "      <th>4</th>\n",
       "      <td>2017</td>\n",
       "      <td>9</td>\n",
       "      <td>National</td>\n",
       "      <td>PARIS LYON</td>\n",
       "      <td>BELLEGARDE (AIN)</td>\n",
       "      <td>164.452632</td>\n",
       "      <td>190</td>\n",
       "      <td>1.728947</td>\n",
       "      <td>6.008860</td>\n",
       "      <td>16</td>\n",
       "      <td>38.0</td>\n",
       "      <td>delay_cause_external_cause</td>\n",
       "      <td>0.166667</td>\n",
       "    </tr>\n",
       "  </tbody>\n",
       "</table>\n",
       "</div>"
      ],
      "text/plain": [
       "   year  month   service departure_station   arrival_station  \\\n",
       "0  2017      9  National         PARIS EST              METZ   \n",
       "1  2017      9  National             REIMS         PARIS EST   \n",
       "2  2017      9  National         PARIS EST        STRASBOURG   \n",
       "3  2017      9  National        PARIS LYON       AVIGNON TGV   \n",
       "4  2017      9  National        PARIS LYON  BELLEGARDE (AIN)   \n",
       "\n",
       "   journey_time_avg  total_num_trips  avg_delay_all_departing  \\\n",
       "0         85.133779              299                 0.752007   \n",
       "1         47.064516              218                 1.263518   \n",
       "2        116.234940              333                 1.139257   \n",
       "3        161.089583              481                 1.406215   \n",
       "4        164.452632              190                 1.728947   \n",
       "\n",
       "   avg_delay_all_arriving  num_late_at_departure  num_arriving_late  \\\n",
       "0                0.419844                     15               17.0   \n",
       "1                1.137558                     10               23.0   \n",
       "2                1.586396                     20               19.0   \n",
       "3                4.788542                     36               61.0   \n",
       "4                6.008860                     16               38.0   \n",
       "\n",
       "                  delay_cause  delayed_number  \n",
       "0  delay_cause_external_cause        0.250000  \n",
       "1  delay_cause_external_cause        0.250000  \n",
       "2  delay_cause_external_cause        0.214286  \n",
       "3  delay_cause_external_cause        0.155172  \n",
       "4  delay_cause_external_cause        0.166667  "
      ]
     },
     "execution_count": 2,
     "metadata": {},
     "output_type": "execute_result"
    }
   ],
   "source": [
    "df.head()"
   ]
  },
  {
   "cell_type": "code",
   "execution_count": 3,
   "metadata": {},
   "outputs": [
    {
     "data": {
      "text/html": [
       "<div>\n",
       "<style scoped>\n",
       "    .dataframe tbody tr th:only-of-type {\n",
       "        vertical-align: middle;\n",
       "    }\n",
       "\n",
       "    .dataframe tbody tr th {\n",
       "        vertical-align: top;\n",
       "    }\n",
       "\n",
       "    .dataframe thead th {\n",
       "        text-align: right;\n",
       "    }\n",
       "</style>\n",
       "<table border=\"1\" class=\"dataframe\">\n",
       "  <thead>\n",
       "    <tr style=\"text-align: right;\">\n",
       "      <th></th>\n",
       "      <th>departure_station</th>\n",
       "      <th>arrival_station</th>\n",
       "    </tr>\n",
       "  </thead>\n",
       "  <tbody>\n",
       "    <tr>\n",
       "      <th>0</th>\n",
       "      <td>PARIS EST</td>\n",
       "      <td>METZ</td>\n",
       "    </tr>\n",
       "    <tr>\n",
       "      <th>1</th>\n",
       "      <td>REIMS</td>\n",
       "      <td>PARIS EST</td>\n",
       "    </tr>\n",
       "    <tr>\n",
       "      <th>2</th>\n",
       "      <td>PARIS EST</td>\n",
       "      <td>STRASBOURG</td>\n",
       "    </tr>\n",
       "    <tr>\n",
       "      <th>3</th>\n",
       "      <td>PARIS LYON</td>\n",
       "      <td>AVIGNON TGV</td>\n",
       "    </tr>\n",
       "    <tr>\n",
       "      <th>4</th>\n",
       "      <td>PARIS LYON</td>\n",
       "      <td>BELLEGARDE (AIN)</td>\n",
       "    </tr>\n",
       "  </tbody>\n",
       "</table>\n",
       "</div>"
      ],
      "text/plain": [
       "  departure_station   arrival_station\n",
       "0         PARIS EST              METZ\n",
       "1             REIMS         PARIS EST\n",
       "2         PARIS EST        STRASBOURG\n",
       "3        PARIS LYON       AVIGNON TGV\n",
       "4        PARIS LYON  BELLEGARDE (AIN)"
      ]
     },
     "execution_count": 3,
     "metadata": {},
     "output_type": "execute_result"
    }
   ],
   "source": [
    "data = df[['departure_station', 'arrival_station']]\n",
    "data.head()"
   ]
  },
  {
   "cell_type": "markdown",
   "metadata": {},
   "source": [
    "## networkX"
   ]
  },
  {
   "cell_type": "code",
   "execution_count": 4,
   "metadata": {},
   "outputs": [],
   "source": [
    "import networkx as nx\n",
    "import matplotlib.pyplot as plt"
   ]
  },
  {
   "cell_type": "markdown",
   "metadata": {},
   "source": [
    "### nx.from_pandas_edgelist()"
   ]
  },
  {
   "cell_type": "code",
   "execution_count": 5,
   "metadata": {},
   "outputs": [],
   "source": [
    "G = nx.from_pandas_edgelist(df=data, source='departure_station', target='arrival_station', create_using=nx.DiGraph)"
   ]
  },
  {
   "cell_type": "code",
   "execution_count": 6,
   "metadata": {},
   "outputs": [
    {
     "data": {
      "image/png": "[encoded data removed]",
      "text/plain": [
       "<Figure size 1080x720 with 1 Axes>"
      ]
     },
     "metadata": {},
     "output_type": "display_data"
    }
   ],
   "source": [
    "plt.figure(figsize=(15,10))\n",
    "nx.draw(G, node_size=50, with_labels=True)"
   ]
  },
  {
   "cell_type": "code",
   "execution_count": 7,
   "metadata": {},
   "outputs": [
    {
     "name": "stderr",
     "output_type": "stream",
     "text": [
      "C:\\Anaconda\\lib\\site-packages\\ipykernel_launcher.py:4: SettingWithCopyWarning: \n",
      "A value is trying to be set on a copy of a slice from a DataFrame.\n",
      "Try using .loc[row_indexer,col_indexer] = value instead\n",
      "\n",
      "See the caveats in the documentation: https://pandas.pydata.org/pandas-docs/stable/user_guide/indexing.html#returning-a-view-versus-a-copy\n",
      "  after removing the cwd from sys.path.\n"
     ]
    }
   ],
   "source": [
    "import numpy as np\n",
    "# inserting distance inf., using random.randint()\n",
    "\n",
    "data['distance'] = np.random.randint(1, 100, size=data.shape[0])"
   ]
  },
  {
   "cell_type": "code",
   "execution_count": 8,
   "metadata": {},
   "outputs": [
    {
     "data": {
      "text/html": [
       "<div>\n",
       "<style scoped>\n",
       "    .dataframe tbody tr th:only-of-type {\n",
       "        vertical-align: middle;\n",
       "    }\n",
       "\n",
       "    .dataframe tbody tr th {\n",
       "        vertical-align: top;\n",
       "    }\n",
       "\n",
       "    .dataframe thead th {\n",
       "        text-align: right;\n",
       "    }\n",
       "</style>\n",
       "<table border=\"1\" class=\"dataframe\">\n",
       "  <thead>\n",
       "    <tr style=\"text-align: right;\">\n",
       "      <th></th>\n",
       "      <th>departure_station</th>\n",
       "      <th>arrival_station</th>\n",
       "      <th>distance</th>\n",
       "    </tr>\n",
       "  </thead>\n",
       "  <tbody>\n",
       "    <tr>\n",
       "      <th>0</th>\n",
       "      <td>PARIS EST</td>\n",
       "      <td>METZ</td>\n",
       "      <td>72</td>\n",
       "    </tr>\n",
       "    <tr>\n",
       "      <th>1</th>\n",
       "      <td>REIMS</td>\n",
       "      <td>PARIS EST</td>\n",
       "      <td>85</td>\n",
       "    </tr>\n",
       "    <tr>\n",
       "      <th>2</th>\n",
       "      <td>PARIS EST</td>\n",
       "      <td>STRASBOURG</td>\n",
       "      <td>55</td>\n",
       "    </tr>\n",
       "    <tr>\n",
       "      <th>3</th>\n",
       "      <td>PARIS LYON</td>\n",
       "      <td>AVIGNON TGV</td>\n",
       "      <td>37</td>\n",
       "    </tr>\n",
       "    <tr>\n",
       "      <th>4</th>\n",
       "      <td>PARIS LYON</td>\n",
       "      <td>BELLEGARDE (AIN)</td>\n",
       "      <td>88</td>\n",
       "    </tr>\n",
       "  </tbody>\n",
       "</table>\n",
       "</div>"
      ],
      "text/plain": [
       "  departure_station   arrival_station  distance\n",
       "0         PARIS EST              METZ        72\n",
       "1             REIMS         PARIS EST        85\n",
       "2         PARIS EST        STRASBOURG        55\n",
       "3        PARIS LYON       AVIGNON TGV        37\n",
       "4        PARIS LYON  BELLEGARDE (AIN)        88"
      ]
     },
     "execution_count": 8,
     "metadata": {},
     "output_type": "execute_result"
    }
   ],
   "source": [
    "data.head()"
   ]
  },
  {
   "cell_type": "code",
   "execution_count": 9,
   "metadata": {},
   "outputs": [],
   "source": [
    "G = nx.from_pandas_edgelist(data, 'departure_station', 'arrival_station', edge_attr='distance')"
   ]
  },
  {
   "cell_type": "code",
   "execution_count": 10,
   "metadata": {},
   "outputs": [
    {
     "data": {
      "text/plain": [
       "{'distance': 10}"
      ]
     },
     "execution_count": 10,
     "metadata": {},
     "output_type": "execute_result"
    }
   ],
   "source": [
    "G.edges[('PARIS EST', 'METZ')]"
   ]
  },
  {
   "cell_type": "code",
   "execution_count": null,
   "metadata": {},
   "outputs": [],
   "source": []
  },
  {
   "cell_type": "code",
   "execution_count": 11,
   "metadata": {},
   "outputs": [],
   "source": [
    "G.edges['METZ','PARIS EST']['cost'] = 10\n",
    "\n",
    "G.edges['PARIS EST','METZ']['cost'] = 15"
   ]
  },
  {
   "cell_type": "code",
   "execution_count": 12,
   "metadata": {},
   "outputs": [
    {
     "data": {
      "text/plain": [
       "{'distance': 10, 'cost': 15}"
      ]
     },
     "execution_count": 12,
     "metadata": {},
     "output_type": "execute_result"
    }
   ],
   "source": [
    "G.edges['METZ','PARIS EST']"
   ]
  },
  {
   "cell_type": "code",
   "execution_count": 13,
   "metadata": {},
   "outputs": [
    {
     "data": {
      "text/plain": [
       "DegreeView({'PARIS EST': 6, 'METZ': 1, 'REIMS': 1, 'STRASBOURG': 2, 'PARIS LYON': 25, 'AVIGNON TGV': 1, 'BELLEGARDE (AIN)': 1, 'BESANCON FRANCHE COMTE TGV': 1, 'CHAMBERY CHALLES LES EAUX': 1, 'GRENOBLE': 1, 'LYON PART DIEU': 6, 'MACON LOCHE': 1, 'MARSEILLE ST CHARLES': 6, 'MONTPELLIER': 2, 'MULHOUSE VILLE': 1, 'PARIS MONTPARNASSE': 16, 'ANGERS SAINT LAUD': 1, 'BORDEAUX ST JEAN': 3, 'LA ROCHELLE VILLE': 1, 'POITIERS': 1, 'RENNES': 3, 'VANNES': 1, 'LILLE': 3, 'FRANCFORT': 1, 'LAUSANNE': 1, 'DOUAI': 1, 'PARIS NORD': 4, 'NANCY': 1, 'LE CREUSOT MONTCEAU MONTCHANIN': 1, 'NICE VILLE': 1, 'ZURICH': 1, 'NANTES': 3, 'DUNKERQUE': 1, 'PERPIGNAN': 1, 'SAINT ETIENNE CHATEAUCREUX': 1, 'ST PIERRE DES CORPS': 1, 'VALENCE ALIXAN TGV': 1, 'DIJON VILLE': 1, 'LAVAL': 1, 'QUIMPER': 1, 'TOULOUSE MATABIAU': 1, 'ARRAS': 1, 'NIMES': 1, 'TOULON': 1, 'LE MANS': 1, 'STUTTGART': 1, 'GENEVE': 1, 'ITALIE': 1, 'ANGOULEME': 1, 'ST MALO': 1, 'TOURS': 1, 'BREST': 1, 'AIX EN PROVENCE TGV': 1, 'ANNECY': 1, 'TOURCOING': 2, 'MARNE LA VALLEE': 2, 'BARCELONA': 1, 'PARIS VAUGIRARD': 3, 'MADRID': 1})"
      ]
     },
     "execution_count": 13,
     "metadata": {},
     "output_type": "execute_result"
    }
   ],
   "source": [
    "G.degree"
   ]
  },
  {
   "cell_type": "code",
   "execution_count": 14,
   "metadata": {},
   "outputs": [
    {
     "data": {
      "text/plain": [
       "NodeView(('PARIS EST', 'METZ', 'REIMS', 'STRASBOURG', 'PARIS LYON', 'AVIGNON TGV', 'BELLEGARDE (AIN)', 'BESANCON FRANCHE COMTE TGV', 'CHAMBERY CHALLES LES EAUX', 'GRENOBLE', 'LYON PART DIEU', 'MACON LOCHE', 'MARSEILLE ST CHARLES', 'MONTPELLIER', 'MULHOUSE VILLE', 'PARIS MONTPARNASSE', 'ANGERS SAINT LAUD', 'BORDEAUX ST JEAN', 'LA ROCHELLE VILLE', 'POITIERS', 'RENNES', 'VANNES', 'LILLE', 'FRANCFORT', 'LAUSANNE', 'DOUAI', 'PARIS NORD', 'NANCY', 'LE CREUSOT MONTCEAU MONTCHANIN', 'NICE VILLE', 'ZURICH', 'NANTES', 'DUNKERQUE', 'PERPIGNAN', 'SAINT ETIENNE CHATEAUCREUX', 'ST PIERRE DES CORPS', 'VALENCE ALIXAN TGV', 'DIJON VILLE', 'LAVAL', 'QUIMPER', 'TOULOUSE MATABIAU', 'ARRAS', 'NIMES', 'TOULON', 'LE MANS', 'STUTTGART', 'GENEVE', 'ITALIE', 'ANGOULEME', 'ST MALO', 'TOURS', 'BREST', 'AIX EN PROVENCE TGV', 'ANNECY', 'TOURCOING', 'MARNE LA VALLEE', 'BARCELONA', 'PARIS VAUGIRARD', 'MADRID'))"
      ]
     },
     "execution_count": 14,
     "metadata": {},
     "output_type": "execute_result"
    }
   ],
   "source": [
    "G.nodes"
   ]
  },
  {
   "cell_type": "code",
   "execution_count": 15,
   "metadata": {},
   "outputs": [
    {
     "data": {
      "text/plain": [
       "59"
      ]
     },
     "execution_count": 15,
     "metadata": {},
     "output_type": "execute_result"
    }
   ],
   "source": [
    "# number of nodes in a graph\n",
    "G.order()"
   ]
  },
  {
   "cell_type": "code",
   "execution_count": 16,
   "metadata": {},
   "outputs": [
    {
     "data": {
      "text/plain": [
       "65"
      ]
     },
     "execution_count": 16,
     "metadata": {},
     "output_type": "execute_result"
    }
   ],
   "source": [
    "# number of edges in a graph\n",
    "G.size()"
   ]
  },
  {
   "cell_type": "code",
   "execution_count": 17,
   "metadata": {},
   "outputs": [
    {
     "data": {
      "text/plain": [
       "['METZ',\n",
       " 'PARIS EST',\n",
       " 'STRASBOURG',\n",
       " 'NANTES',\n",
       " 'PARIS MONTPARNASSE',\n",
       " 'RENNES',\n",
       " 'LYON PART DIEU',\n",
       " 'PARIS LYON']"
      ]
     },
     "execution_count": 17,
     "metadata": {},
     "output_type": "execute_result"
    }
   ],
   "source": [
    "# extra: calculate shortest path: \n",
    "\n",
    "nx.shortest_path(G, 'METZ','PARIS LYON', weight='cost')"
   ]
  },
  {
   "cell_type": "code",
   "execution_count": 18,
   "metadata": {},
   "outputs": [
    {
     "name": "stdout",
     "output_type": "stream",
     "text": [
      "Number of edges: 65\n",
      "Average degree: 2.2033898305084745\n",
      "Density: 0.03798947983635301\n"
     ]
    }
   ],
   "source": [
    "print('Number of edges:', G.size())\n",
    "print('Average degree:', sum(dict(G.degree()).values())/G.order())\n",
    "print('Density:', nx.density(G))"
   ]
  },
  {
   "cell_type": "markdown",
   "metadata": {},
   "source": [
    "# nx.degree_centrality()"
   ]
  },
  {
   "cell_type": "code",
   "execution_count": 19,
   "metadata": {},
   "outputs": [
    {
     "data": {
      "text/plain": [
       "{'PARIS EST': 0.10344827586206896,\n",
       " 'METZ': 0.017241379310344827,\n",
       " 'REIMS': 0.017241379310344827,\n",
       " 'STRASBOURG': 0.034482758620689655,\n",
       " 'PARIS LYON': 0.43103448275862066,\n",
       " 'AVIGNON TGV': 0.017241379310344827,\n",
       " 'BELLEGARDE (AIN)': 0.017241379310344827,\n",
       " 'BESANCON FRANCHE COMTE TGV': 0.017241379310344827,\n",
       " 'CHAMBERY CHALLES LES EAUX': 0.017241379310344827,\n",
       " 'GRENOBLE': 0.017241379310344827,\n",
       " 'LYON PART DIEU': 0.10344827586206896,\n",
       " 'MACON LOCHE': 0.017241379310344827,\n",
       " 'MARSEILLE ST CHARLES': 0.10344827586206896,\n",
       " 'MONTPELLIER': 0.034482758620689655,\n",
       " 'MULHOUSE VILLE': 0.017241379310344827,\n",
       " 'PARIS MONTPARNASSE': 0.27586206896551724,\n",
       " 'ANGERS SAINT LAUD': 0.017241379310344827,\n",
       " 'BORDEAUX ST JEAN': 0.05172413793103448,\n",
       " 'LA ROCHELLE VILLE': 0.017241379310344827,\n",
       " 'POITIERS': 0.017241379310344827,\n",
       " 'RENNES': 0.05172413793103448,\n",
       " 'VANNES': 0.017241379310344827,\n",
       " 'LILLE': 0.05172413793103448,\n",
       " 'FRANCFORT': 0.017241379310344827,\n",
       " 'LAUSANNE': 0.017241379310344827,\n",
       " 'DOUAI': 0.017241379310344827,\n",
       " 'PARIS NORD': 0.06896551724137931,\n",
       " 'NANCY': 0.017241379310344827,\n",
       " 'LE CREUSOT MONTCEAU MONTCHANIN': 0.017241379310344827,\n",
       " 'NICE VILLE': 0.017241379310344827,\n",
       " 'ZURICH': 0.017241379310344827,\n",
       " 'NANTES': 0.05172413793103448,\n",
       " 'DUNKERQUE': 0.017241379310344827,\n",
       " 'PERPIGNAN': 0.017241379310344827,\n",
       " 'SAINT ETIENNE CHATEAUCREUX': 0.017241379310344827,\n",
       " 'ST PIERRE DES CORPS': 0.017241379310344827,\n",
       " 'VALENCE ALIXAN TGV': 0.017241379310344827,\n",
       " 'DIJON VILLE': 0.017241379310344827,\n",
       " 'LAVAL': 0.017241379310344827,\n",
       " 'QUIMPER': 0.017241379310344827,\n",
       " 'TOULOUSE MATABIAU': 0.017241379310344827,\n",
       " 'ARRAS': 0.017241379310344827,\n",
       " 'NIMES': 0.017241379310344827,\n",
       " 'TOULON': 0.017241379310344827,\n",
       " 'LE MANS': 0.017241379310344827,\n",
       " 'STUTTGART': 0.017241379310344827,\n",
       " 'GENEVE': 0.017241379310344827,\n",
       " 'ITALIE': 0.017241379310344827,\n",
       " 'ANGOULEME': 0.017241379310344827,\n",
       " 'ST MALO': 0.017241379310344827,\n",
       " 'TOURS': 0.017241379310344827,\n",
       " 'BREST': 0.017241379310344827,\n",
       " 'AIX EN PROVENCE TGV': 0.017241379310344827,\n",
       " 'ANNECY': 0.017241379310344827,\n",
       " 'TOURCOING': 0.034482758620689655,\n",
       " 'MARNE LA VALLEE': 0.034482758620689655,\n",
       " 'BARCELONA': 0.017241379310344827,\n",
       " 'PARIS VAUGIRARD': 0.05172413793103448,\n",
       " 'MADRID': 0.017241379310344827}"
      ]
     },
     "execution_count": 19,
     "metadata": {},
     "output_type": "execute_result"
    }
   ],
   "source": [
    "degree = nx.degree_centrality(G)\n",
    "degree"
   ]
  },
  {
   "cell_type": "code",
   "execution_count": 20,
   "metadata": {},
   "outputs": [
    {
     "data": {
      "text/html": [
       "<div>\n",
       "<style scoped>\n",
       "    .dataframe tbody tr th:only-of-type {\n",
       "        vertical-align: middle;\n",
       "    }\n",
       "\n",
       "    .dataframe tbody tr th {\n",
       "        vertical-align: top;\n",
       "    }\n",
       "\n",
       "    .dataframe thead th {\n",
       "        text-align: right;\n",
       "    }\n",
       "</style>\n",
       "<table border=\"1\" class=\"dataframe\">\n",
       "  <thead>\n",
       "    <tr style=\"text-align: right;\">\n",
       "      <th></th>\n",
       "      <th>Node</th>\n",
       "      <th>Degree Centrality</th>\n",
       "    </tr>\n",
       "  </thead>\n",
       "  <tbody>\n",
       "    <tr>\n",
       "      <th>4</th>\n",
       "      <td>PARIS LYON</td>\n",
       "      <td>0.431034</td>\n",
       "    </tr>\n",
       "    <tr>\n",
       "      <th>15</th>\n",
       "      <td>PARIS MONTPARNASSE</td>\n",
       "      <td>0.275862</td>\n",
       "    </tr>\n",
       "    <tr>\n",
       "      <th>0</th>\n",
       "      <td>PARIS EST</td>\n",
       "      <td>0.103448</td>\n",
       "    </tr>\n",
       "    <tr>\n",
       "      <th>10</th>\n",
       "      <td>LYON PART DIEU</td>\n",
       "      <td>0.103448</td>\n",
       "    </tr>\n",
       "    <tr>\n",
       "      <th>12</th>\n",
       "      <td>MARSEILLE ST CHARLES</td>\n",
       "      <td>0.103448</td>\n",
       "    </tr>\n",
       "  </tbody>\n",
       "</table>\n",
       "</div>"
      ],
      "text/plain": [
       "                    Node  Degree Centrality\n",
       "4             PARIS LYON           0.431034\n",
       "15    PARIS MONTPARNASSE           0.275862\n",
       "0              PARIS EST           0.103448\n",
       "10        LYON PART DIEU           0.103448\n",
       "12  MARSEILLE ST CHARLES           0.103448"
      ]
     },
     "execution_count": 20,
     "metadata": {},
     "output_type": "execute_result"
    }
   ],
   "source": [
    "degree = pd.DataFrame.from_dict(degree, orient='index').reset_index()\n",
    "\n",
    "degree.columns = ['Node', 'Degree Centrality']\n",
    "degree.sort_values('Degree Centrality', ascending=False).head()"
   ]
  },
  {
   "cell_type": "markdown",
   "metadata": {},
   "source": [
    "# Betweenness Centrality\n",
    "Compute the shortest-path betweenness centrality for nodes"
   ]
  },
  {
   "cell_type": "code",
   "execution_count": 21,
   "metadata": {},
   "outputs": [
    {
     "data": {
      "image/png": "[encoded data removed]",
      "text/plain": [
       "<Figure size 432x288 with 1 Axes>"
      ]
     },
     "metadata": {},
     "output_type": "display_data"
    }
   ],
   "source": [
    "nx.draw(G, node_size=50)"
   ]
  },
  {
   "cell_type": "code",
   "execution_count": 22,
   "metadata": {},
   "outputs": [
    {
     "data": {
      "text/plain": [
       "{'PARIS EST': 0.1663641863278887,\n",
       " 'METZ': 0.0,\n",
       " 'REIMS': 0.0,\n",
       " 'STRASBOURG': 0.18874773139745918,\n",
       " 'PARIS LYON': 0.6199334543254689,\n",
       " 'AVIGNON TGV': 0.0,\n",
       " 'BELLEGARDE (AIN)': 0.0,\n",
       " 'BESANCON FRANCHE COMTE TGV': 0.0,\n",
       " 'CHAMBERY CHALLES LES EAUX': 0.0,\n",
       " 'GRENOBLE': 0.0,\n",
       " 'LYON PART DIEU': 0.49914297237346245,\n",
       " 'MACON LOCHE': 0.0,\n",
       " 'MARSEILLE ST CHARLES': 0.11474087517644686,\n",
       " 'MONTPELLIER': 0.0,\n",
       " 'MULHOUSE VILLE': 0.0,\n",
       " 'PARIS MONTPARNASSE': 0.4890602944141964,\n",
       " 'ANGERS SAINT LAUD': 0.0,\n",
       " 'BORDEAUX ST JEAN': 0.03105464811453923,\n",
       " 'LA ROCHELLE VILLE': 0.0,\n",
       " 'POITIERS': 0.0,\n",
       " 'RENNES': 0.4487799959669288,\n",
       " 'VANNES': 0.0,\n",
       " 'LILLE': 0.13067150635208713,\n",
       " 'FRANCFORT': 0.0,\n",
       " 'LAUSANNE': 0.0,\n",
       " 'DOUAI': 0.0,\n",
       " 'PARIS NORD': 0.10163339382940109,\n",
       " 'NANCY': 0.0,\n",
       " 'LE CREUSOT MONTCEAU MONTCHANIN': 0.0,\n",
       " 'NICE VILLE': 0.0,\n",
       " 'ZURICH': 0.0,\n",
       " 'NANTES': 0.21879411171607185,\n",
       " 'DUNKERQUE': 0.0,\n",
       " 'PERPIGNAN': 0.0,\n",
       " 'SAINT ETIENNE CHATEAUCREUX': 0.0,\n",
       " 'ST PIERRE DES CORPS': 0.0,\n",
       " 'VALENCE ALIXAN TGV': 0.0,\n",
       " 'DIJON VILLE': 0.0,\n",
       " 'LAVAL': 0.0,\n",
       " 'QUIMPER': 0.0,\n",
       " 'TOULOUSE MATABIAU': 0.0,\n",
       " 'ARRAS': 0.0,\n",
       " 'NIMES': 0.0,\n",
       " 'TOULON': 0.0,\n",
       " 'LE MANS': 0.0,\n",
       " 'STUTTGART': 0.0,\n",
       " 'GENEVE': 0.0,\n",
       " 'ITALIE': 0.0,\n",
       " 'ANGOULEME': 0.0,\n",
       " 'ST MALO': 0.0,\n",
       " 'TOURS': 0.0,\n",
       " 'BREST': 0.0,\n",
       " 'AIX EN PROVENCE TGV': 0.0,\n",
       " 'ANNECY': 0.0,\n",
       " 'TOURCOING': 0.03317201048598508,\n",
       " 'MARNE LA VALLEE': 0.0,\n",
       " 'BARCELONA': 0.0,\n",
       " 'PARIS VAUGIRARD': 0.08797136519459568,\n",
       " 'MADRID': 0.0}"
      ]
     },
     "execution_count": 22,
     "metadata": {},
     "output_type": "execute_result"
    }
   ],
   "source": [
    "# maior betweeness é o ponto que se você remover, afeta mais o grafo \n",
    "betweenness = nx.betweenness_centrality(G)\n",
    "betweenness"
   ]
  },
  {
   "cell_type": "code",
   "execution_count": 23,
   "metadata": {},
   "outputs": [
    {
     "data": {
      "text/html": [
       "<div>\n",
       "<style scoped>\n",
       "    .dataframe tbody tr th:only-of-type {\n",
       "        vertical-align: middle;\n",
       "    }\n",
       "\n",
       "    .dataframe tbody tr th {\n",
       "        vertical-align: top;\n",
       "    }\n",
       "\n",
       "    .dataframe thead th {\n",
       "        text-align: right;\n",
       "    }\n",
       "</style>\n",
       "<table border=\"1\" class=\"dataframe\">\n",
       "  <thead>\n",
       "    <tr style=\"text-align: right;\">\n",
       "      <th></th>\n",
       "      <th>Node</th>\n",
       "      <th>Betweenness Centrality</th>\n",
       "    </tr>\n",
       "  </thead>\n",
       "  <tbody>\n",
       "    <tr>\n",
       "      <th>4</th>\n",
       "      <td>PARIS LYON</td>\n",
       "      <td>0.619933</td>\n",
       "    </tr>\n",
       "    <tr>\n",
       "      <th>10</th>\n",
       "      <td>LYON PART DIEU</td>\n",
       "      <td>0.499143</td>\n",
       "    </tr>\n",
       "    <tr>\n",
       "      <th>15</th>\n",
       "      <td>PARIS MONTPARNASSE</td>\n",
       "      <td>0.489060</td>\n",
       "    </tr>\n",
       "    <tr>\n",
       "      <th>20</th>\n",
       "      <td>RENNES</td>\n",
       "      <td>0.448780</td>\n",
       "    </tr>\n",
       "    <tr>\n",
       "      <th>31</th>\n",
       "      <td>NANTES</td>\n",
       "      <td>0.218794</td>\n",
       "    </tr>\n",
       "  </tbody>\n",
       "</table>\n",
       "</div>"
      ],
      "text/plain": [
       "                  Node  Betweenness Centrality\n",
       "4           PARIS LYON                0.619933\n",
       "10      LYON PART DIEU                0.499143\n",
       "15  PARIS MONTPARNASSE                0.489060\n",
       "20              RENNES                0.448780\n",
       "31              NANTES                0.218794"
      ]
     },
     "execution_count": 23,
     "metadata": {},
     "output_type": "execute_result"
    }
   ],
   "source": [
    "betweenness = pd.DataFrame.from_dict(betweenness, orient='index').reset_index()\n",
    "betweenness.columns = ['Node', 'Betweenness Centrality']\n",
    "betweenness.sort_values('Betweenness Centrality', ascending=False).head()"
   ]
  },
  {
   "cell_type": "markdown",
   "metadata": {},
   "source": [
    "# Pagerank\n",
    "Pagerank mede a relevância de um nó baseado não só em quantos vizinhos ele tem, mas também medindo quantos vizinhos importantes ele tem"
   ]
  },
  {
   "cell_type": "code",
   "execution_count": 24,
   "metadata": {},
   "outputs": [
    {
     "data": {
      "text/html": [
       "<div>\n",
       "<style scoped>\n",
       "    .dataframe tbody tr th:only-of-type {\n",
       "        vertical-align: middle;\n",
       "    }\n",
       "\n",
       "    .dataframe tbody tr th {\n",
       "        vertical-align: top;\n",
       "    }\n",
       "\n",
       "    .dataframe thead th {\n",
       "        text-align: right;\n",
       "    }\n",
       "</style>\n",
       "<table border=\"1\" class=\"dataframe\">\n",
       "  <thead>\n",
       "    <tr style=\"text-align: right;\">\n",
       "      <th></th>\n",
       "      <th>Node</th>\n",
       "      <th>PageRank Centrality</th>\n",
       "    </tr>\n",
       "  </thead>\n",
       "  <tbody>\n",
       "    <tr>\n",
       "      <th>4</th>\n",
       "      <td>PARIS LYON</td>\n",
       "      <td>0.182676</td>\n",
       "    </tr>\n",
       "    <tr>\n",
       "      <th>15</th>\n",
       "      <td>PARIS MONTPARNASSE</td>\n",
       "      <td>0.115534</td>\n",
       "    </tr>\n",
       "    <tr>\n",
       "      <th>0</th>\n",
       "      <td>PARIS EST</td>\n",
       "      <td>0.050158</td>\n",
       "    </tr>\n",
       "    <tr>\n",
       "      <th>12</th>\n",
       "      <td>MARSEILLE ST CHARLES</td>\n",
       "      <td>0.037562</td>\n",
       "    </tr>\n",
       "    <tr>\n",
       "      <th>10</th>\n",
       "      <td>LYON PART DIEU</td>\n",
       "      <td>0.036688</td>\n",
       "    </tr>\n",
       "  </tbody>\n",
       "</table>\n",
       "</div>"
      ],
      "text/plain": [
       "                    Node  PageRank Centrality\n",
       "4             PARIS LYON             0.182676\n",
       "15    PARIS MONTPARNASSE             0.115534\n",
       "0              PARIS EST             0.050158\n",
       "12  MARSEILLE ST CHARLES             0.037562\n",
       "10        LYON PART DIEU             0.036688"
      ]
     },
     "execution_count": 24,
     "metadata": {},
     "output_type": "execute_result"
    }
   ],
   "source": [
    "pagerank = nx.pagerank(G)\n",
    "\n",
    "pagerank = pd.DataFrame.from_dict(pagerank, orient='index').reset_index()\n",
    "pagerank.columns = ['Node', 'PageRank Centrality']\n",
    "pagerank.sort_values('PageRank Centrality', ascending=False).head()"
   ]
  },
  {
   "cell_type": "code",
   "execution_count": 25,
   "metadata": {},
   "outputs": [
    {
     "data": {
      "image/png": "[encoded data removed]",
      "text/plain": [
       "<Figure size 432x288 with 1 Axes>"
      ]
     },
     "metadata": {},
     "output_type": "display_data"
    }
   ],
   "source": [
    "nx.draw_kamada_kawai(G, node_size=20,)"
   ]
  },
  {
   "cell_type": "markdown",
   "metadata": {},
   "source": [
    "# Ego graph"
   ]
  },
  {
   "cell_type": "code",
   "execution_count": 26,
   "metadata": {},
   "outputs": [
    {
     "data": {
      "text/plain": [
       "<networkx.classes.graph.Graph at 0x1d6160175c8>"
      ]
     },
     "execution_count": 26,
     "metadata": {},
     "output_type": "execute_result"
    }
   ],
   "source": [
    "nx.ego_graph(G, 'PARIS EST', radius=1)"
   ]
  },
  {
   "cell_type": "code",
   "execution_count": 27,
   "metadata": {},
   "outputs": [
    {
     "data": {
      "text/plain": [
       "[('PARIS EST', 0.6666666666666666),\n",
       " ('NANTES', 0.3333333333333333),\n",
       " ('STRASBOURG', 0.2222222222222222),\n",
       " ('PARIS MONTPARNASSE', 0.1111111111111111),\n",
       " ('STUTTGART', 0.1111111111111111),\n",
       " ('METZ', 0.1111111111111111),\n",
       " ('PARIS VAUGIRARD', 0.1111111111111111),\n",
       " ('FRANCFORT', 0.1111111111111111),\n",
       " ('NANCY', 0.1111111111111111),\n",
       " ('REIMS', 0.1111111111111111)]"
      ]
     },
     "execution_count": 27,
     "metadata": {},
     "output_type": "execute_result"
    },
    {
     "data": {
      "image/png": "[encoded data removed]",
      "text/plain": [
       "<Figure size 432x288 with 1 Axes>"
      ]
     },
     "metadata": {},
     "output_type": "display_data"
    }
   ],
   "source": [
    "ego = nx.ego_graph(G, 'PARIS EST', radius=3)\n",
    "nx.draw_kamada_kawai(ego, node_size=20, node_color='cyan', with_labels=True)\n",
    "\n",
    "sorted(nx.degree_centrality(ego).items(), key=lambda x : x[1], reverse=True)"
   ]
  },
  {
   "cell_type": "markdown",
   "metadata": {},
   "source": [
    "# Flux application"
   ]
  },
  {
   "cell_type": "markdown",
   "metadata": {},
   "source": [
    "# Converting non-graph dataframes to edge lists"
   ]
  },
  {
   "cell_type": "markdown",
   "metadata": {},
   "source": [
    "## Simpsons Network"
   ]
  },
  {
   "cell_type": "code",
   "execution_count": 28,
   "metadata": {},
   "outputs": [
    {
     "data": {
      "text/html": [
       "<div>\n",
       "<style scoped>\n",
       "    .dataframe tbody tr th:only-of-type {\n",
       "        vertical-align: middle;\n",
       "    }\n",
       "\n",
       "    .dataframe tbody tr th {\n",
       "        vertical-align: top;\n",
       "    }\n",
       "\n",
       "    .dataframe thead th {\n",
       "        text-align: right;\n",
       "    }\n",
       "</style>\n",
       "<table border=\"1\" class=\"dataframe\">\n",
       "  <thead>\n",
       "    <tr style=\"text-align: right;\">\n",
       "      <th></th>\n",
       "      <th>season</th>\n",
       "      <th>number</th>\n",
       "      <th>production_code</th>\n",
       "      <th>episode_title</th>\n",
       "      <th>guest_star</th>\n",
       "      <th>role</th>\n",
       "    </tr>\n",
       "  </thead>\n",
       "  <tbody>\n",
       "    <tr>\n",
       "      <th>0</th>\n",
       "      <td>1</td>\n",
       "      <td>002–102</td>\n",
       "      <td>7G02</td>\n",
       "      <td>Bart the Genius</td>\n",
       "      <td>Marcia Wallace</td>\n",
       "      <td>Edna Krabappel;  Ms. Melon</td>\n",
       "    </tr>\n",
       "    <tr>\n",
       "      <th>1</th>\n",
       "      <td>1</td>\n",
       "      <td>003–103</td>\n",
       "      <td>7G03</td>\n",
       "      <td>Homer's Odyssey</td>\n",
       "      <td>Sam McMurray</td>\n",
       "      <td>Worker</td>\n",
       "    </tr>\n",
       "    <tr>\n",
       "      <th>2</th>\n",
       "      <td>1</td>\n",
       "      <td>003–103</td>\n",
       "      <td>7G03</td>\n",
       "      <td>Homer's Odyssey</td>\n",
       "      <td>Marcia Wallace</td>\n",
       "      <td>Edna Krabappel</td>\n",
       "    </tr>\n",
       "    <tr>\n",
       "      <th>3</th>\n",
       "      <td>1</td>\n",
       "      <td>006–106</td>\n",
       "      <td>7G06</td>\n",
       "      <td>Moaning Lisa</td>\n",
       "      <td>Miriam Flynn</td>\n",
       "      <td>Ms. Barr</td>\n",
       "    </tr>\n",
       "    <tr>\n",
       "      <th>4</th>\n",
       "      <td>1</td>\n",
       "      <td>006–106</td>\n",
       "      <td>7G06</td>\n",
       "      <td>Moaning Lisa</td>\n",
       "      <td>Ron Taylor</td>\n",
       "      <td>Bleeding Gums Murphy</td>\n",
       "    </tr>\n",
       "    <tr>\n",
       "      <th>...</th>\n",
       "      <td>...</td>\n",
       "      <td>...</td>\n",
       "      <td>...</td>\n",
       "      <td>...</td>\n",
       "      <td>...</td>\n",
       "      <td>...</td>\n",
       "    </tr>\n",
       "    <tr>\n",
       "      <th>1381</th>\n",
       "      <td>30</td>\n",
       "      <td>661–3022</td>\n",
       "      <td>YABF15</td>\n",
       "      <td>Woo-Hoo Dunnit?</td>\n",
       "      <td>Jackie Mason</td>\n",
       "      <td>Rabbi Hyman Krustofsky</td>\n",
       "    </tr>\n",
       "    <tr>\n",
       "      <th>1382</th>\n",
       "      <td>30</td>\n",
       "      <td>661–3022</td>\n",
       "      <td>YABF15</td>\n",
       "      <td>Woo-Hoo Dunnit?</td>\n",
       "      <td>Liev Schreiber</td>\n",
       "      <td>Dateline: Springfield Narrator</td>\n",
       "    </tr>\n",
       "    <tr>\n",
       "      <th>1383</th>\n",
       "      <td>30</td>\n",
       "      <td>662–3023</td>\n",
       "      <td>YABF16</td>\n",
       "      <td>Crystal Blue-Haired Persuasion</td>\n",
       "      <td>Illeana Douglas</td>\n",
       "      <td>New Age Clerk</td>\n",
       "    </tr>\n",
       "    <tr>\n",
       "      <th>1384</th>\n",
       "      <td>30</td>\n",
       "      <td>662–3023</td>\n",
       "      <td>YABF16</td>\n",
       "      <td>Crystal Blue-Haired Persuasion</td>\n",
       "      <td>Werner Herzog</td>\n",
       "      <td>Walter Hotenhoffer</td>\n",
       "    </tr>\n",
       "    <tr>\n",
       "      <th>1385</th>\n",
       "      <td>30</td>\n",
       "      <td>662–3023</td>\n",
       "      <td>YABF16</td>\n",
       "      <td>Crystal Blue-Haired Persuasion</td>\n",
       "      <td>Jenny Slate</td>\n",
       "      <td>Piper Paisley</td>\n",
       "    </tr>\n",
       "  </tbody>\n",
       "</table>\n",
       "<p>1386 rows × 6 columns</p>\n",
       "</div>"
      ],
      "text/plain": [
       "     season    number production_code                   episode_title  \\\n",
       "0         1   002–102            7G02                 Bart the Genius   \n",
       "1         1   003–103            7G03                 Homer's Odyssey   \n",
       "2         1   003–103            7G03                 Homer's Odyssey   \n",
       "3         1   006–106            7G06                    Moaning Lisa   \n",
       "4         1   006–106            7G06                    Moaning Lisa   \n",
       "...     ...       ...             ...                             ...   \n",
       "1381     30  661–3022          YABF15                 Woo-Hoo Dunnit?   \n",
       "1382     30  661–3022          YABF15                 Woo-Hoo Dunnit?   \n",
       "1383     30  662–3023          YABF16  Crystal Blue-Haired Persuasion   \n",
       "1384     30  662–3023          YABF16  Crystal Blue-Haired Persuasion   \n",
       "1385     30  662–3023          YABF16  Crystal Blue-Haired Persuasion   \n",
       "\n",
       "           guest_star                            role  \n",
       "0      Marcia Wallace      Edna Krabappel;  Ms. Melon  \n",
       "1        Sam McMurray                          Worker  \n",
       "2      Marcia Wallace                  Edna Krabappel  \n",
       "3        Miriam Flynn                        Ms. Barr  \n",
       "4          Ron Taylor            Bleeding Gums Murphy  \n",
       "...               ...                             ...  \n",
       "1381     Jackie Mason          Rabbi Hyman Krustofsky  \n",
       "1382   Liev Schreiber  Dateline: Springfield Narrator  \n",
       "1383  Illeana Douglas                   New Age Clerk  \n",
       "1384    Werner Herzog              Walter Hotenhoffer  \n",
       "1385      Jenny Slate                   Piper Paisley  \n",
       "\n",
       "[1386 rows x 6 columns]"
      ]
     },
     "execution_count": 28,
     "metadata": {},
     "output_type": "execute_result"
    }
   ],
   "source": [
    "df = pd.read_csv('https://raw.githubusercontent.com/rfordatascience/tidytuesday/master/data/2019/2019-08-27/simpsons-guests.csv', sep='|')\n",
    "df"
   ]
  },
  {
   "cell_type": "code",
   "execution_count": 29,
   "metadata": {},
   "outputs": [],
   "source": [
    "def df_to_graph(df, node, edge):\n",
    "    ''' \n",
    "    Transform a dataframe into another dataframe suitable to work with graphs.\n",
    "    '''\n",
    "    \n",
    "    \n",
    "    graph_df = pd.merge(df, df, how='inner', on=edge)\n",
    "    graph_df = graph_df.groupby([f'{node}_x', f'{node}_y']).count().reset_index()\n",
    "    graph_df = graph_df.query(f'{node}_x != {node}_y')\n",
    " \n",
    "    if type(edge) == list:\n",
    "        graph_df = graph_df.loc[:, [node + '_x', node + '_y'] + edge]\n",
    "    else:\n",
    "        graph_df = graph_df.loc[:, [node + '_x', node + '_y', edge]]\n",
    "             \n",
    "        \n",
    "        \n",
    "    return graph_df.rename(columns={f'{node}_x':f'{node}_src', \n",
    "                                    f'{node}_y':f'{node}_dest'})\n"
   ]
  },
  {
   "cell_type": "code",
   "execution_count": 30,
   "metadata": {},
   "outputs": [
    {
     "data": {
      "text/html": [
       "<div>\n",
       "<style scoped>\n",
       "    .dataframe tbody tr th:only-of-type {\n",
       "        vertical-align: middle;\n",
       "    }\n",
       "\n",
       "    .dataframe tbody tr th {\n",
       "        vertical-align: top;\n",
       "    }\n",
       "\n",
       "    .dataframe thead th {\n",
       "        text-align: right;\n",
       "    }\n",
       "</style>\n",
       "<table border=\"1\" class=\"dataframe\">\n",
       "  <thead>\n",
       "    <tr style=\"text-align: right;\">\n",
       "      <th></th>\n",
       "      <th>guest_star_src</th>\n",
       "      <th>guest_star_dest</th>\n",
       "      <th>episode_title</th>\n",
       "    </tr>\n",
       "  </thead>\n",
       "  <tbody>\n",
       "    <tr>\n",
       "      <th>2</th>\n",
       "      <td>50 Cent</td>\n",
       "      <td>Dana Gould</td>\n",
       "      <td>1</td>\n",
       "    </tr>\n",
       "    <tr>\n",
       "      <th>2734</th>\n",
       "      <td>Michael Jackson</td>\n",
       "      <td>Kipp Lennon</td>\n",
       "      <td>1</td>\n",
       "    </tr>\n",
       "    <tr>\n",
       "      <th>2736</th>\n",
       "      <td>Michael Keaton</td>\n",
       "      <td>Bruce Vilanch</td>\n",
       "      <td>1</td>\n",
       "    </tr>\n",
       "    <tr>\n",
       "      <th>2737</th>\n",
       "      <td>Michael Keaton</td>\n",
       "      <td>Charles Napier</td>\n",
       "      <td>1</td>\n",
       "    </tr>\n",
       "    <tr>\n",
       "      <th>2738</th>\n",
       "      <td>Michael Keaton</td>\n",
       "      <td>Marcia Wallace</td>\n",
       "      <td>1</td>\n",
       "    </tr>\n",
       "    <tr>\n",
       "      <th>...</th>\n",
       "      <td>...</td>\n",
       "      <td>...</td>\n",
       "      <td>...</td>\n",
       "    </tr>\n",
       "    <tr>\n",
       "      <th>1602</th>\n",
       "      <td>Joe Mantegna</td>\n",
       "      <td>Marcia Wallace</td>\n",
       "      <td>8</td>\n",
       "    </tr>\n",
       "    <tr>\n",
       "      <th>2375</th>\n",
       "      <td>Marcia Wallace</td>\n",
       "      <td>Joe Mantegna</td>\n",
       "      <td>8</td>\n",
       "    </tr>\n",
       "    <tr>\n",
       "      <th>999</th>\n",
       "      <td>Frank Welker</td>\n",
       "      <td>Marcia Wallace</td>\n",
       "      <td>8</td>\n",
       "    </tr>\n",
       "    <tr>\n",
       "      <th>2438</th>\n",
       "      <td>Marcia Wallace</td>\n",
       "      <td>Phil Hartman</td>\n",
       "      <td>18</td>\n",
       "    </tr>\n",
       "    <tr>\n",
       "      <th>3074</th>\n",
       "      <td>Phil Hartman</td>\n",
       "      <td>Marcia Wallace</td>\n",
       "      <td>18</td>\n",
       "    </tr>\n",
       "  </tbody>\n",
       "</table>\n",
       "<p>3338 rows × 3 columns</p>\n",
       "</div>"
      ],
      "text/plain": [
       "       guest_star_src guest_star_dest  episode_title\n",
       "2             50 Cent      Dana Gould              1\n",
       "2734  Michael Jackson     Kipp Lennon              1\n",
       "2736   Michael Keaton   Bruce Vilanch              1\n",
       "2737   Michael Keaton  Charles Napier              1\n",
       "2738   Michael Keaton  Marcia Wallace              1\n",
       "...               ...             ...            ...\n",
       "1602     Joe Mantegna  Marcia Wallace              8\n",
       "2375   Marcia Wallace    Joe Mantegna              8\n",
       "999      Frank Welker  Marcia Wallace              8\n",
       "2438   Marcia Wallace    Phil Hartman             18\n",
       "3074     Phil Hartman  Marcia Wallace             18\n",
       "\n",
       "[3338 rows x 3 columns]"
      ]
     },
     "execution_count": 30,
     "metadata": {},
     "output_type": "execute_result"
    }
   ],
   "source": [
    "graph_df = df_to_graph(df, 'guest_star', 'episode_title')\n",
    "graph_df.sort_values(by='episode_title')"
   ]
  },
  {
   "cell_type": "code",
   "execution_count": 31,
   "metadata": {},
   "outputs": [
    {
     "name": "stdout",
     "output_type": "stream",
     "text": [
      "Number of edges: 1669\n",
      "Average degree: 4.5788751714677645\n",
      "Density: 0.006289663697071105\n"
     ]
    },
    {
     "data": {
      "text/html": [
       "<div>\n",
       "<style scoped>\n",
       "    .dataframe tbody tr th:only-of-type {\n",
       "        vertical-align: middle;\n",
       "    }\n",
       "\n",
       "    .dataframe tbody tr th {\n",
       "        vertical-align: top;\n",
       "    }\n",
       "\n",
       "    .dataframe thead th {\n",
       "        text-align: right;\n",
       "    }\n",
       "</style>\n",
       "<table border=\"1\" class=\"dataframe\">\n",
       "  <thead>\n",
       "    <tr style=\"text-align: right;\">\n",
       "      <th></th>\n",
       "      <th>Node</th>\n",
       "      <th>Betweenness Centrality</th>\n",
       "    </tr>\n",
       "  </thead>\n",
       "  <tbody>\n",
       "    <tr>\n",
       "      <th>5</th>\n",
       "      <td>Marcia Wallace</td>\n",
       "      <td>0.317746</td>\n",
       "    </tr>\n",
       "    <tr>\n",
       "      <th>6</th>\n",
       "      <td>Maurice LaMarche</td>\n",
       "      <td>0.082161</td>\n",
       "    </tr>\n",
       "    <tr>\n",
       "      <th>115</th>\n",
       "      <td>Jon Lovitz</td>\n",
       "      <td>0.060001</td>\n",
       "    </tr>\n",
       "    <tr>\n",
       "      <th>26</th>\n",
       "      <td>Phil Hartman</td>\n",
       "      <td>0.055232</td>\n",
       "    </tr>\n",
       "    <tr>\n",
       "      <th>46</th>\n",
       "      <td>Joe Mantegna</td>\n",
       "      <td>0.053040</td>\n",
       "    </tr>\n",
       "  </tbody>\n",
       "</table>\n",
       "</div>"
      ],
      "text/plain": [
       "                 Node  Betweenness Centrality\n",
       "5      Marcia Wallace                0.317746\n",
       "6    Maurice LaMarche                0.082161\n",
       "115        Jon Lovitz                0.060001\n",
       "26       Phil Hartman                0.055232\n",
       "46       Joe Mantegna                0.053040"
      ]
     },
     "execution_count": 31,
     "metadata": {},
     "output_type": "execute_result"
    }
   ],
   "source": [
    "G = nx.from_pandas_edgelist(graph_df, 'guest_star_src', 'guest_star_dest')\n",
    "print('Number of edges:', G.size())\n",
    "print('Average degree:', sum(dict(G.degree()).values())/G.order())\n",
    "print('Density:', nx.density(G))\n",
    "\n",
    "betweenness = nx.betweenness_centrality(G, weight='edge')\n",
    "betweenness = pd.DataFrame.from_dict(betweenness, orient='index').reset_index()\n",
    "betweenness.columns = ['Node', 'Betweenness Centrality']\n",
    "betweenness.sort_values('Betweenness Centrality', ascending=False).head()"
   ]
  },
  {
   "cell_type": "code",
   "execution_count": 32,
   "metadata": {},
   "outputs": [
    {
     "data": {
      "text/html": [
       "<div>\n",
       "<style scoped>\n",
       "    .dataframe tbody tr th:only-of-type {\n",
       "        vertical-align: middle;\n",
       "    }\n",
       "\n",
       "    .dataframe tbody tr th {\n",
       "        vertical-align: top;\n",
       "    }\n",
       "\n",
       "    .dataframe thead th {\n",
       "        text-align: right;\n",
       "    }\n",
       "</style>\n",
       "<table border=\"1\" class=\"dataframe\">\n",
       "  <thead>\n",
       "    <tr style=\"text-align: right;\">\n",
       "      <th></th>\n",
       "      <th>Node</th>\n",
       "      <th>Pagerank Centrality</th>\n",
       "    </tr>\n",
       "  </thead>\n",
       "  <tbody>\n",
       "    <tr>\n",
       "      <th>5</th>\n",
       "      <td>Marcia Wallace</td>\n",
       "      <td>0.054583</td>\n",
       "    </tr>\n",
       "    <tr>\n",
       "      <th>26</th>\n",
       "      <td>Phil Hartman</td>\n",
       "      <td>0.013763</td>\n",
       "    </tr>\n",
       "    <tr>\n",
       "      <th>6</th>\n",
       "      <td>Maurice LaMarche</td>\n",
       "      <td>0.013545</td>\n",
       "    </tr>\n",
       "    <tr>\n",
       "      <th>46</th>\n",
       "      <td>Joe Mantegna</td>\n",
       "      <td>0.012000</td>\n",
       "    </tr>\n",
       "    <tr>\n",
       "      <th>115</th>\n",
       "      <td>Jon Lovitz</td>\n",
       "      <td>0.008910</td>\n",
       "    </tr>\n",
       "  </tbody>\n",
       "</table>\n",
       "</div>"
      ],
      "text/plain": [
       "                 Node  Pagerank Centrality\n",
       "5      Marcia Wallace             0.054583\n",
       "26       Phil Hartman             0.013763\n",
       "6    Maurice LaMarche             0.013545\n",
       "46       Joe Mantegna             0.012000\n",
       "115        Jon Lovitz             0.008910"
      ]
     },
     "execution_count": 32,
     "metadata": {},
     "output_type": "execute_result"
    }
   ],
   "source": [
    "pagerank = nx.pagerank(G, weight='edge')\n",
    "pagerank = pd.DataFrame.from_dict(pagerank, orient='index').reset_index()\n",
    "pagerank.columns = ['Node', 'Pagerank Centrality']\n",
    "pagerank.sort_values('Pagerank Centrality', ascending=False).head()"
   ]
  },
  {
   "cell_type": "code",
   "execution_count": 33,
   "metadata": {},
   "outputs": [],
   "source": [
    "bb = nx.betweenness_centrality(G)\n",
    "nx.set_node_attributes(G, bb, 'betweenness')"
   ]
  },
  {
   "cell_type": "code",
   "execution_count": 34,
   "metadata": {},
   "outputs": [
    {
     "ename": "ValueError",
     "evalue": "Received invalid argument(s): edge_size",
     "output_type": "error",
     "traceback": [
      "\u001b[1;31m---------------------------------------------------------------------------\u001b[0m",
      "\u001b[1;31mValueError\u001b[0m                                Traceback (most recent call last)",
      "\u001b[1;32m<ipython-input-34-e51d9071e941>\u001b[0m in \u001b[0;36m<module>\u001b[1;34m\u001b[0m\n\u001b[1;32m----> 1\u001b[1;33m \u001b[0mnx\u001b[0m\u001b[1;33m.\u001b[0m\u001b[0mdraw\u001b[0m\u001b[1;33m(\u001b[0m\u001b[0mG\u001b[0m\u001b[1;33m,\u001b[0m \u001b[0mnodelist\u001b[0m\u001b[1;33m=\u001b[0m\u001b[0mbb\u001b[0m\u001b[1;33m.\u001b[0m\u001b[0mkeys\u001b[0m\u001b[1;33m(\u001b[0m\u001b[1;33m)\u001b[0m\u001b[1;33m,\u001b[0m \u001b[0mnode_size\u001b[0m\u001b[1;33m=\u001b[0m\u001b[1;36m2\u001b[0m\u001b[1;33m,\u001b[0m \u001b[0medge_size\u001b[0m\u001b[1;33m=\u001b[0m\u001b[1;36m2\u001b[0m\u001b[1;33m)\u001b[0m\u001b[1;33m\u001b[0m\u001b[1;33m\u001b[0m\u001b[0m\n\u001b[0m",
      "\u001b[1;32m~\\AppData\\Roaming\\Python\\Python37\\site-packages\\networkx\\drawing\\nx_pylab.py\u001b[0m in \u001b[0;36mdraw\u001b[1;34m(G, pos, ax, **kwds)\u001b[0m\n\u001b[0;32m    121\u001b[0m         \u001b[0mkwds\u001b[0m\u001b[1;33m[\u001b[0m\u001b[1;34m\"with_labels\"\u001b[0m\u001b[1;33m]\u001b[0m \u001b[1;33m=\u001b[0m \u001b[1;34m\"labels\"\u001b[0m \u001b[1;32min\u001b[0m \u001b[0mkwds\u001b[0m\u001b[1;33m\u001b[0m\u001b[1;33m\u001b[0m\u001b[0m\n\u001b[0;32m    122\u001b[0m \u001b[1;33m\u001b[0m\u001b[0m\n\u001b[1;32m--> 123\u001b[1;33m     \u001b[0mdraw_networkx\u001b[0m\u001b[1;33m(\u001b[0m\u001b[0mG\u001b[0m\u001b[1;33m,\u001b[0m \u001b[0mpos\u001b[0m\u001b[1;33m=\u001b[0m\u001b[0mpos\u001b[0m\u001b[1;33m,\u001b[0m \u001b[0max\u001b[0m\u001b[1;33m=\u001b[0m\u001b[0max\u001b[0m\u001b[1;33m,\u001b[0m \u001b[1;33m**\u001b[0m\u001b[0mkwds\u001b[0m\u001b[1;33m)\u001b[0m\u001b[1;33m\u001b[0m\u001b[1;33m\u001b[0m\u001b[0m\n\u001b[0m\u001b[0;32m    124\u001b[0m     \u001b[0max\u001b[0m\u001b[1;33m.\u001b[0m\u001b[0mset_axis_off\u001b[0m\u001b[1;33m(\u001b[0m\u001b[1;33m)\u001b[0m\u001b[1;33m\u001b[0m\u001b[1;33m\u001b[0m\u001b[0m\n\u001b[0;32m    125\u001b[0m     \u001b[0mplt\u001b[0m\u001b[1;33m.\u001b[0m\u001b[0mdraw_if_interactive\u001b[0m\u001b[1;33m(\u001b[0m\u001b[1;33m)\u001b[0m\u001b[1;33m\u001b[0m\u001b[1;33m\u001b[0m\u001b[0m\n",
      "\u001b[1;32m~\\AppData\\Roaming\\Python\\Python37\\site-packages\\networkx\\drawing\\nx_pylab.py\u001b[0m in \u001b[0;36mdraw_networkx\u001b[1;34m(G, pos, arrows, with_labels, **kwds)\u001b[0m\n\u001b[0;32m    324\u001b[0m     \u001b[1;32mif\u001b[0m \u001b[0many\u001b[0m\u001b[1;33m(\u001b[0m\u001b[1;33m[\u001b[0m\u001b[0mk\u001b[0m \u001b[1;32mnot\u001b[0m \u001b[1;32min\u001b[0m \u001b[0mvalid_kwds\u001b[0m \u001b[1;32mfor\u001b[0m \u001b[0mk\u001b[0m \u001b[1;32min\u001b[0m \u001b[0mkwds\u001b[0m\u001b[1;33m]\u001b[0m\u001b[1;33m)\u001b[0m\u001b[1;33m:\u001b[0m\u001b[1;33m\u001b[0m\u001b[1;33m\u001b[0m\u001b[0m\n\u001b[0;32m    325\u001b[0m         \u001b[0minvalid_args\u001b[0m \u001b[1;33m=\u001b[0m \u001b[1;34m\", \"\u001b[0m\u001b[1;33m.\u001b[0m\u001b[0mjoin\u001b[0m\u001b[1;33m(\u001b[0m\u001b[1;33m[\u001b[0m\u001b[0mk\u001b[0m \u001b[1;32mfor\u001b[0m \u001b[0mk\u001b[0m \u001b[1;32min\u001b[0m \u001b[0mkwds\u001b[0m \u001b[1;32mif\u001b[0m \u001b[0mk\u001b[0m \u001b[1;32mnot\u001b[0m \u001b[1;32min\u001b[0m \u001b[0mvalid_kwds\u001b[0m\u001b[1;33m]\u001b[0m\u001b[1;33m)\u001b[0m\u001b[1;33m\u001b[0m\u001b[1;33m\u001b[0m\u001b[0m\n\u001b[1;32m--> 326\u001b[1;33m         \u001b[1;32mraise\u001b[0m \u001b[0mValueError\u001b[0m\u001b[1;33m(\u001b[0m\u001b[1;34mf\"Received invalid argument(s): {invalid_args}\"\u001b[0m\u001b[1;33m)\u001b[0m\u001b[1;33m\u001b[0m\u001b[1;33m\u001b[0m\u001b[0m\n\u001b[0m\u001b[0;32m    327\u001b[0m \u001b[1;33m\u001b[0m\u001b[0m\n\u001b[0;32m    328\u001b[0m     \u001b[0mnode_kwds\u001b[0m \u001b[1;33m=\u001b[0m \u001b[1;33m{\u001b[0m\u001b[0mk\u001b[0m\u001b[1;33m:\u001b[0m \u001b[0mv\u001b[0m \u001b[1;32mfor\u001b[0m \u001b[0mk\u001b[0m\u001b[1;33m,\u001b[0m \u001b[0mv\u001b[0m \u001b[1;32min\u001b[0m \u001b[0mkwds\u001b[0m\u001b[1;33m.\u001b[0m\u001b[0mitems\u001b[0m\u001b[1;33m(\u001b[0m\u001b[1;33m)\u001b[0m \u001b[1;32mif\u001b[0m \u001b[0mk\u001b[0m \u001b[1;32min\u001b[0m \u001b[0mvalid_node_kwds\u001b[0m\u001b[1;33m}\u001b[0m\u001b[1;33m\u001b[0m\u001b[1;33m\u001b[0m\u001b[0m\n",
      "\u001b[1;31mValueError\u001b[0m: Received invalid argument(s): edge_size"
     ]
    },
    {
     "data": {
      "image/png": "[encoded data removed]",
      "text/plain": [
       "<Figure size 432x288 with 1 Axes>"
      ]
     },
     "metadata": {},
     "output_type": "display_data"
    }
   ],
   "source": [
    "nx.draw(G, nodelist=bb.keys(), node_size=2, edge_size=2)"
   ]
  },
  {
   "cell_type": "code",
   "execution_count": null,
   "metadata": {},
   "outputs": [],
   "source": [
    "nx.draw_kamada_kawai(G, node_size=20, node_color='cyan')"
   ]
  },
  {
   "cell_type": "code",
   "execution_count": null,
   "metadata": {},
   "outputs": [],
   "source": [
    "len(list(G.neighbors('Marcia Wallace')))"
   ]
  },
  {
   "cell_type": "markdown",
   "metadata": {},
   "source": [
    "# Interactive Visualization"
   ]
  },
  {
   "cell_type": "code",
   "execution_count": null,
   "metadata": {},
   "outputs": [],
   "source": [
    "# !pip install pyvis"
   ]
  },
  {
   "cell_type": "code",
   "execution_count": null,
   "metadata": {},
   "outputs": [],
   "source": [
    "graph_df.head()"
   ]
  },
  {
   "cell_type": "code",
   "execution_count": null,
   "metadata": {},
   "outputs": [],
   "source": [
    "from pyvis.network import Network"
   ]
  },
  {
   "cell_type": "code",
   "execution_count": null,
   "metadata": {},
   "outputs": [],
   "source": [
    "g = Network(notebook=True)"
   ]
  },
  {
   "cell_type": "code",
   "execution_count": null,
   "metadata": {},
   "outputs": [],
   "source": [
    "G.nodes()"
   ]
  },
  {
   "cell_type": "code",
   "execution_count": null,
   "metadata": {},
   "outputs": [],
   "source": [
    "g.from_nx(G)"
   ]
  },
  {
   "cell_type": "code",
   "execution_count": null,
   "metadata": {},
   "outputs": [],
   "source": [
    "g.show('test.html', )"
   ]
  },
  {
   "cell_type": "markdown",
   "metadata": {},
   "source": [
    "# Game of Thrones Graph"
   ]
  },
  {
   "cell_type": "code",
   "execution_count": null,
   "metadata": {},
   "outputs": [],
   "source": [
    "from pyvis.network import Network\n",
    "import pandas as pd\n",
    "url = 'https://www.macalester.edu/~abeverid/data/stormofswords.csv'\n",
    "# https://raw.githubusercontent.com/mathbeveridge/asoiaf/master/data/asoiaf-all-edges.csv\n",
    "\n",
    "\n",
    "got_net = Network(height=\"750px\", width=\"100%\", notebook=True)\n",
    "\n",
    "# set the physics layout of the network\n",
    "got_net.barnes_hut()\n",
    "got_data = pd.read_csv(url)\n",
    "\n",
    "sources = got_data['Source']\n",
    "targets = got_data['Target']\n",
    "weights = got_data['Weight']\n",
    "\n",
    "edge_data = zip(sources, targets, weights)\n",
    "\n",
    "# run through each edge and assign a value\n",
    "for e in edge_data:\n",
    "    src = e[0]\n",
    "    dst = e[1]\n",
    "    w = e[2]\n",
    "\n",
    "    got_net.add_node(src, src, title=src)\n",
    "    got_net.add_node(dst, dst, title=dst)\n",
    "    got_net.add_edge(src, dst, value=w)\n",
    "\n",
    "# get neighbors\n",
    "neighbor_map = got_net.get_adj_list()\n",
    "\n",
    "# add neighbor data to node hover data\n",
    "for node in got_net.nodes:\n",
    "    node[\"title\"] += \" Neighbors:<br>\" + \"<br>\".join(neighbor_map[node[\"id\"]])\n",
    "    node[\"value\"] = len(neighbor_map[node[\"id\"]])\n",
    "\n",
    "got_net.show_buttons()\n",
    "got_net.show(\"gameofthrones.html\", )"
   ]
  },
  {
   "cell_type": "code",
   "execution_count": null,
   "metadata": {},
   "outputs": [],
   "source": [
    "got_net.save_graph('got.html')"
   ]
  },
  {
   "cell_type": "code",
   "execution_count": null,
   "metadata": {},
   "outputs": [],
   "source": [
    "# https://pyvis.readthedocs.io/en/latest/tutorial.html#visualization"
   ]
  },
  {
   "cell_type": "code",
   "execution_count": null,
   "metadata": {},
   "outputs": [],
   "source": []
  }
 ],
 "metadata": {
  "kernelspec": {
   "display_name": "Python 3",
   "language": "python",
   "name": "python3"
  },
  "language_info": {
   "codemirror_mode": {
    "name": "ipython",
    "version": 3
   },
   "file_extension": ".py",
   "mimetype": "text/x-python",
   "name": "python",
   "nbconvert_exporter": "python",
   "pygments_lexer": "ipython3",
   "version": "3.7.6"
  },
  "toc": {
   "base_numbering": 1,
   "nav_menu": {},
   "number_sections": true,
   "sideBar": true,
   "skip_h1_title": false,
   "title_cell": "Table of Contents",
   "title_sidebar": "Contents",
   "toc_cell": false,
   "toc_position": {},
   "toc_section_display": true,
   "toc_window_display": true
  },
  "varInspector": {
   "cols": {
    "lenName": 16,
    "lenType": 16,
    "lenVar": 40
   },
   "kernels_config": {
    "python": {
     "delete_cmd_postfix": "",
     "delete_cmd_prefix": "del ",
     "library": "var_list.py",
     "varRefreshCmd": "print(var_dic_list())"
    },
    "r": {
     "delete_cmd_postfix": ") ",
     "delete_cmd_prefix": "rm(",
     "library": "var_list.r",
     "varRefreshCmd": "cat(var_dic_list()) "
    }
   },
   "types_to_exclude": [
    "module",
    "function",
    "builtin_function_or_method",
    "instance",
    "_Feature"
   ],
   "window_display": false
  }
 },
 "nbformat": 4,
 "nbformat_minor": 4
}
